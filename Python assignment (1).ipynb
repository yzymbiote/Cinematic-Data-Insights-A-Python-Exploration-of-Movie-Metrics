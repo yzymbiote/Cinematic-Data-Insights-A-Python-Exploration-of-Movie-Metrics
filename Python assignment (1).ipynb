{
 "cells": [
  {
   "cell_type": "code",
   "execution_count": 4,
   "id": "4538637a-bd9b-4784-8905-4b73e28b51f8",
   "metadata": {},
   "outputs": [
    {
     "name": "stdout",
     "output_type": "stream",
     "text": [
      "                   Title  title_year     budget      Gross      actor_1_name  \\\n",
      "0             La La Land        2016   30000000  151101803      Ryan Gosling   \n",
      "1               Zootopia        2016  150000000  341268248  Ginnifer Goodwin   \n",
      "2                   Lion        2016   12000000   51738905         Dev Patel   \n",
      "3                Arrival        2016   47000000  100546139         Amy Adams   \n",
      "4  Manchester by the Sea        2016    9000000   47695371     Casey Affleck   \n",
      "\n",
      "         actor_2_name     actor_3_name  actor_1_facebook_likes  \\\n",
      "0          Emma Stone       Amiée Conn                   14000   \n",
      "1       Jason Bateman       Idris Elba                    2800   \n",
      "2       Nicole Kidman      Rooney Mara                   33000   \n",
      "3       Jeremy Renner  Forest Whitaker                   35000   \n",
      "4  Michelle Williams     Kyle Chandler                     518   \n",
      "\n",
      "   actor_2_facebook_likes  actor_3_facebook_likes  ...  Votes3044M Votes3044F  \\\n",
      "0                 19000.0                     NaN  ...         7.9        7.8   \n",
      "1                 28000.0                 27000.0  ...         7.8        8.1   \n",
      "2                 96000.0                  9800.0  ...         7.9        8.2   \n",
      "3                  5300.0                     NaN  ...         7.8        7.8   \n",
      "4                 71000.0                  3300.0  ...         7.7        7.7   \n",
      "\n",
      "  Votes45A Votes45AM  Votes45AF  Votes1000  VotesUS  VotesnUS  content_rating  \\\n",
      "0      7.6       7.6        7.5        7.1      8.3       8.1           PG-13   \n",
      "1      7.8       7.8        8.1        7.6      8.0       8.0              PG   \n",
      "2      8.0       7.9        8.4        7.1      8.1       8.0           PG-13   \n",
      "3      7.6       7.6        7.7        7.3      8.0       7.9           PG-13   \n",
      "4      7.6       7.6        7.6        7.1      7.9       7.8               R   \n",
      "\n",
      "     Country  \n",
      "0        USA  \n",
      "1        USA  \n",
      "2  Australia  \n",
      "3        USA  \n",
      "4        USA  \n",
      "\n",
      "[5 rows x 62 columns]\n",
      "   Unnamed: 0                  Unnamed: 1                           Unnamed: 2\n",
      "0         NaN                 Column Name                          Description\n",
      "1         NaN                       Title                   Title of the movie\n",
      "2         NaN  budget                                 Budget of the movie in $\n",
      "3         NaN  Gross                                   Gross of the movie in $\n",
      "4         NaN  actor_1_name                Name of the lead actor in the movie\n"
     ]
    }
   ],
   "source": [
    "import pandas as pd\n",
    "\n",
    "#Load the dataset (movie assignment data & data dictionary)\n",
    "csv_file_path = 'Movie Assignment Data.csv'\n",
    "movies_df = pd.read_csv(csv_file_path)\n",
    "\n",
    "excel_file_path = 'Movie Assignment Data Dictionary.xlsx'\n",
    "data_dictionary_df = pd.read_excel(excel_file_path)\n",
    "\n",
    "#Verify that it has loaded correctly by displaying the first few rows\n",
    "print(movies_df.head())\n",
    "print(data_dictionary_df.head())\n",
    "\n"
   ]
  },
  {
   "cell_type": "code",
   "execution_count": 5,
   "id": "35aa54cb-49c8-4e7e-935d-1ccbeae0d235",
   "metadata": {},
   "outputs": [
    {
     "name": "stdout",
     "output_type": "stream",
     "text": [
      "count    1.000000e+02\n",
      "mean     7.838400e+07\n",
      "std      7.445295e+07\n",
      "min      3.000000e+06\n",
      "25%      1.575000e+07\n",
      "50%      4.225000e+07\n",
      "75%      1.500000e+08\n",
      "max      2.600000e+08\n",
      "Name: budget, dtype: float64\n"
     ]
    }
   ],
   "source": [
    "# Generate descriptive statistics for the budget\n",
    "budget_stats = movies_df['budget'].describe()\n",
    "print(budget_stats)"
   ]
  },
  {
   "cell_type": "code",
   "execution_count": 7,
   "id": "93fdc61a-c3e9-4c98-a4c2-147879d60765",
   "metadata": {},
   "outputs": [
    {
     "name": "stdout",
     "output_type": "stream",
     "text": [
      "Index(['Title', 'title_year', 'budget', 'Gross', 'actor_1_name',\n",
      "       'actor_2_name', 'actor_3_name', 'actor_1_facebook_likes',\n",
      "       'actor_2_facebook_likes', 'actor_3_facebook_likes', 'IMDb_rating',\n",
      "       'genre_1', 'genre_2', 'genre_3', 'MetaCritic', 'Runtime', 'CVotes10',\n",
      "       'CVotes09', 'CVotes08', 'CVotes07', 'CVotes06', 'CVotes05', 'CVotes04',\n",
      "       'CVotes03', 'CVotes02', 'CVotes01', 'CVotesMale', 'CVotesFemale',\n",
      "       'CVotesU18', 'CVotesU18M', 'CVotesU18F', 'CVotes1829', 'CVotes1829M',\n",
      "       'CVotes1829F', 'CVotes3044', 'CVotes3044M', 'CVotes3044F', 'CVotes45A',\n",
      "       'CVotes45AM', 'CVotes45AF', 'CVotes1000', 'CVotesUS', 'CVotesnUS',\n",
      "       'VotesM', 'VotesF', 'VotesU18', 'VotesU18M', 'VotesU18F', 'Votes1829',\n",
      "       'Votes1829M', 'Votes1829F', 'Votes3044', 'Votes3044M', 'Votes3044F',\n",
      "       'Votes45A', 'Votes45AM', 'Votes45AF', 'Votes1000', 'VotesUS',\n",
      "       'VotesnUS', 'content_rating', 'Country'],\n",
      "      dtype='object')\n"
     ]
    }
   ],
   "source": [
    "# Print all column names\n",
    "print(movies_df.columns)\n"
   ]
  },
  {
   "cell_type": "code",
   "execution_count": 8,
   "id": "11cb7df5-306c-4675-be0d-c55dd753c60e",
   "metadata": {},
   "outputs": [
    {
     "name": "stdout",
     "output_type": "stream",
     "text": [
      "Number of top-rated movies produced in the United States with a PG-13 rating: 35\n"
     ]
    }
   ],
   "source": [
    "# Filter the DataFrame for movies with a PG-13 rating and produced in the Unites States\n",
    "pg13_us_movies = movies_df[(movies_df['Country'] == 'USA') & (movies_df['content_rating'] == 'PG-13')]\n",
    "\n",
    "#Get the number of such movies\n",
    "number_of_pg13_us_movies = pg13_us_movies.shape[0]\n",
    "print(f'Number of top-rated movies produced in the United States with a PG-13 rating: {number_of_pg13_us_movies}')"
   ]
  },
  {
   "cell_type": "code",
   "execution_count": 5,
   "id": "20eb8be6-e50a-486a-921d-26080dc98784",
   "metadata": {},
   "outputs": [],
   "source": [
    "import pandas as pd\n",
    "\n",
    "# Assuming the CSV file is in the same directory as notebook\n",
    "# Otherwise, provide the correct path to the CSV file\n",
    "dataset_path = 'Movie Assignment Data.csv'\n",
    "movies_df = pd.read_csv(dataset_path)"
   ]
  },
  {
   "cell_type": "code",
   "execution_count": 6,
   "id": "3876c82c-6353-4b46-afa0-9a1ae77e82f4",
   "metadata": {},
   "outputs": [
    {
     "name": "stdout",
     "output_type": "stream",
     "text": [
      "Were there any top-rated movies from 2014 not produced in the USA? Yes\n",
      "                       Title    Country\n",
      "45            The Lego Movie  Australia\n",
      "78  The Theory of Everything         UK\n",
      "80                Ex Machina         UK\n",
      "81        The Imitation Game         UK\n"
     ]
    }
   ],
   "source": [
    "# Filter the DataFrae for movies produced in 2014 but not in the USA\n",
    "non_us_2014_movies = movies_df[(movies_df['title_year'] == 2014) & (movies_df['Country'] != 'USA')]\n",
    "\n",
    "# Check if there are any such movies\n",
    "any_non_us_2014_movies = non_us_2014_movies.shape[0] > 0\n",
    "print(f'Were there any top-rated movies from 2014 not produced in the USA? {\"Yes\" if any_non_us_2014_movies else \"No\"}')\n",
    "\n",
    "\n",
    "# If there are such movies, display them\n",
    "if any_non_us_2014_movies:\n",
    "    print(non_us_2014_movies[['Title', 'Country']])   "
   ]
  },
  {
   "cell_type": "code",
   "execution_count": 8,
   "id": "784a3f35-611a-4c05-969a-456234f332f6",
   "metadata": {},
   "outputs": [
    {
     "name": "stdout",
     "output_type": "stream",
     "text": [
      "Percenatge of movies with 1 genre(s): 3.00%\n",
      "Percenatge of movies with 2 genre(s): 23.00%\n",
      "Percenatge of movies with 3 genre(s): 74.00%\n"
     ]
    }
   ],
   "source": [
    "# Determin ehte genres listed for each movie\n",
    "movies_df['genre_count'] = movies_df[['genre_1', 'genre_2', 'genre_3']].notnull().sum(axis=1)\n",
    "\n",
    "# Calculate the total number of movies\n",
    "total_movies = movies_df.shape[0]\n",
    "\n",
    "# Calculate the number and percentage of movies for each genre count\n",
    "genre_counts = movies_df['genre_count'].value_counts().sort_index()\n",
    "for genre_count in range(1, 4):\n",
    "    count = genre_counts.get(genre_count, 0)\n",
    "    percentage = (count / total_movies) * 100\n",
    "    print(f\"Percenatge of movies with {genre_count} genre(s): {percentage:.2f}%\")"
   ]
  },
  {
   "cell_type": "code",
   "execution_count": 9,
   "id": "9f24369f-9ccb-4279-b504-f5a4258907f2",
   "metadata": {},
   "outputs": [
    {
     "name": "stdout",
     "output_type": "stream",
     "text": [
      "                   Title  budget_millions  Gross_millions\n",
      "0             La La Land             30.0         151.102\n",
      "1               Zootopia            150.0         341.268\n",
      "2                   Lion             12.0          51.739\n",
      "3                Arrival             47.0         100.546\n",
      "4  Manchester by the Sea              9.0          47.695\n"
     ]
    }
   ],
   "source": [
    "# Convert 'budget' and 'Gross' from dollars to millions and round to 3 decimal places\n",
    "movies_df['budget_millions'] = movies_df['budget'].apply(lambda x: round(x / 1e6, 3))\n",
    "movies_df['Gross_millions'] = movies_df['Gross'].apply(lambda x: round(x / 1e6, 3))\n",
    "\n",
    "# Display the first few rounds to confirm the conversion\n",
    "print(movies_df[['Title', 'budget_millions', 'Gross_millions']].head())"
   ]
  },
  {
   "cell_type": "code",
   "execution_count": 10,
   "id": "62eeb3c0-d211-44b6-91cd-d3afd54fd532",
   "metadata": {},
   "outputs": [
    {
     "name": "stdout",
     "output_type": "stream",
     "text": [
      "                                         Title  budget_millions  \\\n",
      "97  Star Wars: Episode VII - The Force Awakens            245.0   \n",
      "11                                The Avengers            220.0   \n",
      "47                                    Deadpool             58.0   \n",
      "32             The Hunger Games: Catching Fire            130.0   \n",
      "12                                 Toy Story 3            200.0   \n",
      "8                        The Dark Knight Rises            250.0   \n",
      "45                              The Lego Movie             60.0   \n",
      "1                                     Zootopia            150.0   \n",
      "41                               Despicable Me             69.0   \n",
      "18                                  Inside Out            175.0   \n",
      "\n",
      "    Gross_millions  profit_millions  \n",
      "97         936.662          691.662  \n",
      "11         623.280          403.280  \n",
      "47         363.024          305.024  \n",
      "32         424.646          294.646  \n",
      "12         414.984          214.984  \n",
      "8          448.131          198.131  \n",
      "45         257.756          197.756  \n",
      "1          341.268          191.268  \n",
      "41         251.502          182.502  \n",
      "18         356.454          181.454  \n"
     ]
    }
   ],
   "source": [
    "#Calculate the profit each movie\n",
    "movies_df['profit'] = movies_df['Gross'] - movies_df['budget']\n",
    "\n",
    "# Convert 'profit' from dollars to millions and round to 3 decimal places\n",
    "movies_df['profit_millions'] = movies_df['profit'].apply(lambda x: round(x / 1e6, 3))\n",
    "\n",
    "# Sort movies by profit in descending prder and take the top 10\n",
    "top_profit_movies = movies_df.sort_values(by='profit', ascending=False).head(10)\n",
    "\n",
    "# Selecting the details to display the top 10 most profitable movies\n",
    "columns_to_display = ['Title', 'budget_millions', 'Gross_millions', 'profit_millions']\n",
    "top_10_profitable_movies = top_profit_movies[columns_to_display]\n",
    "\n",
    "print(top_10_profitable_movies)"
   ]
  },
  {
   "cell_type": "code",
   "execution_count": 13,
   "id": "72188cb0-7fe3-467f-a9f9-a05534c496b9",
   "metadata": {},
   "outputs": [
    {
     "name": "stdout",
     "output_type": "stream",
     "text": [
      "         Actor Names\n",
      "0                  0\n",
      "1    Abraham Benrubi\n",
      "2         Adam Brown\n",
      "3        Aidan Quinn\n",
      "4       Aidan Turner\n",
      "..               ...\n",
      "230     Tyler Labine\n",
      "231       Vin Diesel\n",
      "232     Will Ferrell\n",
      "233       Will Forte\n",
      "234     ZoÃ« Kravitz\n",
      "\n",
      "[235 rows x 1 columns]\n"
     ]
    }
   ],
   "source": [
    "# Combine all actor name columns into a single series and drop duplicates\n",
    "actors = pd.Series(movies_df['actor_1_name'].tolist() + movies_df['actor_2_name'].tolist() + movies_df['actor_3_name'].tolist()).unique()\n",
    "\n",
    "# Convert to a lisy, sort it, and then create a DataFrame for better readability\n",
    "sorted_actors = sorted(actors)\n",
    "actors_df = pd.DataFrame(sorted_actors, columns=['Actor Names'])\n",
    "\n",
    "# Display the sorted actor names\n",
    "print(actors_df)"
   ]
  },
  {
   "cell_type": "code",
   "execution_count": 15,
   "id": "79e68495-c278-4251-afec-b576770c3e52",
   "metadata": {},
   "outputs": [
    {
     "name": "stdout",
     "output_type": "stream",
     "text": [
      "Tom Hardy            5\n",
      "Leonardo DiCaprio    5\n",
      "Jennifer Lawrence    4\n",
      "dtype: int64\n"
     ]
    }
   ],
   "source": [
    "# Concatenate all actor columns into a single Series\n",
    "all_actors = pd.concat([movies_df['actor_1_name'], movies_df['actor_2_name'], movies_df['actor_3_name']])\n",
    "\n",
    "# Count te number of appearances of each actor and sort them in descending order\n",
    "actor_counts = all_actors.value_counts()\n",
    "\n",
    "# Get the top 3 actors\n",
    "top_3_actors = actor_counts.head(3)\n",
    "\n",
    "# Display the top 3 actor and the number of top-rated movies they appeared in \n",
    "print(top_3_actors)"
   ]
  },
  {
   "cell_type": "code",
   "execution_count": 27,
   "id": "53da5a90-ed26-4b6a-a989-132e20b6c499",
   "metadata": {},
   "outputs": [],
   "source": [
    "country_movie_counts = movies_df['Country'].value_counts()"
   ]
  },
  {
   "cell_type": "code",
   "execution_count": 28,
   "id": "77a0bd9b-8396-4299-9f90-eb6c271d8992",
   "metadata": {},
   "outputs": [
    {
     "data": {
      "image/png": "[encoded data removed]",
      "text/plain": [
       "<Figure size 1000x800 with 1 Axes>"
      ]
     },
     "metadata": {},
     "output_type": "display_data"
    }
   ],
   "source": [
    "import matplotlib.pyplot as plt\n",
    "\n",
    "# Now we plot the bar chart\n",
    "plt.figure(figsize=(10, 8))\n",
    "country_movie_counts.plot(kind='bar')\n",
    "plt.title('Number of Top-Rated Movies Produced by Country')\n",
    "plt.xlabel('Country')\n",
    "plt.ylabel('Number of Movies')\n",
    "plt.xticks(rotation=45, ha='right')  # Rotate country names for better readability\n",
    "plt.tight_layout()  # Adjust layout to fit the figure nicely\n",
    "plt.show()\n"
   ]
  },
  {
   "cell_type": "code",
   "execution_count": 31,
   "id": "ffc75be8-5be9-44fc-9533-af7a9ba9a3af",
   "metadata": {},
   "outputs": [
    {
     "name": "stdout",
     "output_type": "stream",
     "text": [
      "Index(['Title', 'title_year', 'budget', 'Gross', 'actor_1_name',\n",
      "       'actor_2_name', 'actor_3_name', 'actor_1_facebook_likes',\n",
      "       'actor_2_facebook_likes', 'actor_3_facebook_likes', 'IMDb_rating',\n",
      "       'genre_1', 'genre_2', 'genre_3', 'MetaCritic', 'Runtime', 'CVotes10',\n",
      "       'CVotes09', 'CVotes08', 'CVotes07', 'CVotes06', 'CVotes05', 'CVotes04',\n",
      "       'CVotes03', 'CVotes02', 'CVotes01', 'CVotesMale', 'CVotesFemale',\n",
      "       'CVotesU18', 'CVotesU18M', 'CVotesU18F', 'CVotes1829', 'CVotes1829M',\n",
      "       'CVotes1829F', 'CVotes3044', 'CVotes3044M', 'CVotes3044F', 'CVotes45A',\n",
      "       'CVotes45AM', 'CVotes45AF', 'CVotes1000', 'CVotesUS', 'CVotesnUS',\n",
      "       'VotesM', 'VotesF', 'VotesU18', 'VotesU18M', 'VotesU18F', 'Votes1829',\n",
      "       'Votes1829M', 'Votes1829F', 'Votes3044', 'Votes3044M', 'Votes3044F',\n",
      "       'Votes45A', 'Votes45AM', 'Votes45AF', 'Votes1000', 'VotesUS',\n",
      "       'VotesnUS', 'content_rating', 'Country', 'genre_count',\n",
      "       'budget_millions', 'Gross_millions', 'profit', 'profit_millions'],\n",
      "      dtype='object')\n"
     ]
    }
   ],
   "source": [
    "print(movies_df.columns)\n"
   ]
  },
  {
   "cell_type": "code",
   "execution_count": 32,
   "id": "0312d112-5de7-42dc-9a40-87a972a34084",
   "metadata": {},
   "outputs": [
    {
     "data": {
      "image/png": "[encoded data removed]",
      "text/plain": [
       "<Figure size 1000x800 with 1 Axes>"
      ]
     },
     "metadata": {},
     "output_type": "display_data"
    }
   ],
   "source": [
    "# This should be run in one cell\n",
    "import pandas as pd\n",
    "import matplotlib.pyplot as plt\n",
    "\n",
    "# Load your dataset here if movies_df is not already defined\n",
    "# dataset_path = 'path_to_your_csv.csv'  # Use the correct path to your CSV\n",
    "# movies_df = pd.read_csv(dataset_path)\n",
    "\n",
    "# Ensure this variable is defined in the same cell before plotting\n",
    "country_movie_counts = movies_df['Country'].value_counts()\n",
    "\n",
    "# Then, in the next cell, run your plotting code\n",
    "plt.figure(figsize=(10, 8))\n",
    "country_movie_counts.plot(kind='bar')\n",
    "plt.title('Number of Top-Rated Movies Produced by Country')\n",
    "plt.xlabel('Country')\n",
    "plt.ylabel('Number of Movies')\n",
    "plt.xticks(rotation=45, ha='right')\n",
    "plt.tight_layout()\n",
    "plt.show()\n"
   ]
  },
  {
   "cell_type": "code",
   "execution_count": null,
   "id": "9f7046be-cc98-45a5-a0d9-6166566035c5",
   "metadata": {},
   "outputs": [],
   "source": []
  }
 ],
 "metadata": {
  "kernelspec": {
   "display_name": "Python 3 (ipykernel)",
   "language": "python",
   "name": "python3"
  },
  "language_info": {
   "codemirror_mode": {
    "name": "ipython",
    "version": 3
   },
   "file_extension": ".py",
   "mimetype": "text/x-python",
   "name": "python",
   "nbconvert_exporter": "python",
   "pygments_lexer": "ipython3",
   "version": "3.10.9"
  }
 },
 "nbformat": 4,
 "nbformat_minor": 5
}
